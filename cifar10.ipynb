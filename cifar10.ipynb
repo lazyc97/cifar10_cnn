{
 "cells": [
  {
   "cell_type": "markdown",
   "metadata": {},
   "source": [
    "# Mạng CNN cho bộ dữ liệu cifar10\n",
    "Bộ tham số được train trên Google Colab để sử dụng GPU miễn phí. `colab_log.ipynb` có chứa hiện trạng notebook khi vừa train xong.\n",
    "\n",
    "Trước hết cần đặt các biến setting:"
   ]
  },
  {
   "cell_type": "code",
   "execution_count": 1,
   "metadata": {
    "colab": {
     "autoexec": {
      "startup": false,
      "wait_interval": 0
     },
     "base_uri": "https://localhost:8080/",
     "height": 147
    },
    "colab_type": "code",
    "executionInfo": {
     "elapsed": 128404,
     "status": "ok",
     "timestamp": 1525796781698,
     "user": {
      "displayName": "Duc Hoang Nguyen",
      "photoUrl": "//lh3.googleusercontent.com/-jTUcmzwBhV4/AAAAAAAAAAI/AAAAAAAADzE/ZbhDHtVo9XE/s50-c-k-no/photo.jpg",
      "userId": "107372712701943544462"
     },
     "user_tz": -420
    },
    "id": "AdDSzPJRDoDW",
    "outputId": "78511f42-3a47-48d9-ec46-4011cd8aeeeb"
   },
   "outputs": [],
   "source": [
    "GOOGLE_COLAB = False\n",
    "PROJ_PATH = 'drive/cifar10_cnn'\n",
    "MODEL = 'model_1525796201' # tên file weight, để None để train"
   ]
  },
  {
   "cell_type": "markdown",
   "metadata": {},
   "source": [
    "`model_1525796201` được train với 75 epoch, đạt accuracy 0.8307 trên bộ dữ liệu test. Nhìn log thì vẫn chưa hội tụ, nếu tăng số epoch có thể đạt được accuracy cao hơn.\n",
    "\n",
    "Nếu chạy trên máy Colab, cài Keras và mount Google Drive để lưu tham số train được:"
   ]
  },
  {
   "cell_type": "code",
   "execution_count": 2,
   "metadata": {},
   "outputs": [],
   "source": [
    "if GOOGLE_COLAB:\n",
    "    !apt-get install -y -qq software-properties-common python-software-properties module-init-tools\n",
    "    !add-apt-repository -y ppa:alessandro-strada/ppa 2>&1 > /dev/null\n",
    "    !apt-get update -qq 2>&1 > /dev/null\n",
    "    !apt-get -y install -qq google-drive-ocamlfuse fuse\n",
    "    !pip install -q keras\n",
    "    \n",
    "    from google.colab import auth\n",
    "    auth.authenticate_user()\n",
    "    from oauth2client.client import GoogleCredentials\n",
    "    creds = GoogleCredentials.get_application_default()\n",
    "    import getpass\n",
    "    !google-drive-ocamlfuse -headless -id={creds.client_id} -secret={creds.client_secret} < /dev/null 2>&1 | grep URL\n",
    "    vcode = getpass.getpass()\n",
    "    !echo {vcode} | google-drive-ocamlfuse -headless -id={creds.client_id} -secret={creds.client_secret}\n",
    "    \n",
    "    !mkdir -p drive\n",
    "    !google-drive-ocamlfuse -o nonempty drive\n",
    "\n",
    "!mkdir -p drive/cifar10_cnn"
   ]
  },
  {
   "cell_type": "markdown",
   "metadata": {},
   "source": [
    "Import Keras, load và format dữ liệu:"
   ]
  },
  {
   "cell_type": "code",
   "execution_count": 3,
   "metadata": {
    "colab": {
     "autoexec": {
      "startup": false,
      "wait_interval": 0
     },
     "base_uri": "https://localhost:8080/",
     "height": 54
    },
    "colab_type": "code",
    "executionInfo": {
     "elapsed": 718,
     "status": "ok",
     "timestamp": 1525796800992,
     "user": {
      "displayName": "Duc Hoang Nguyen",
      "photoUrl": "//lh3.googleusercontent.com/-jTUcmzwBhV4/AAAAAAAAAAI/AAAAAAAADzE/ZbhDHtVo9XE/s50-c-k-no/photo.jpg",
      "userId": "107372712701943544462"
     },
     "user_tz": -420
    },
    "id": "LV4gDtG3ESP8",
    "outputId": "1465dbfb-597d-4d6f-fb31-66e30cca260e"
   },
   "outputs": [
    {
     "name": "stderr",
     "output_type": "stream",
     "text": [
      "/home/lazyc97/.local/lib/python3.6/site-packages/h5py/__init__.py:36: FutureWarning: Conversion of the second argument of issubdtype from `float` to `np.floating` is deprecated. In future, it will be treated as `np.float64 == np.dtype(float).type`.\n",
      "  from ._conv import register_converters as _register_converters\n",
      "Using TensorFlow backend.\n"
     ]
    },
    {
     "name": "stdout",
     "output_type": "stream",
     "text": [
      "(50000, 32, 32, 3) (10000, 32, 32, 3)\n",
      "(50000, 10) (10000, 10)\n"
     ]
    }
   ],
   "source": [
    "from keras.callbacks import EarlyStopping\n",
    "from keras.datasets import cifar10\n",
    "from keras.layers import Dense, Flatten, Dropout, Conv2D, MaxPooling2D\n",
    "from keras.models import Sequential\n",
    "from keras.optimizers import Adagrad\n",
    "from keras.utils import to_categorical\n",
    "\n",
    "(X_train, y_train), (X_test, y_test) = cifar10.load_data()\n",
    "y_train, y_test = to_categorical(y_train, 10), to_categorical(y_test, 10)\n",
    "X_train = X_train.astype('float32') / 255\n",
    "X_test = X_test.astype('float32') / 255\n",
    "\n",
    "print(X_train.shape, X_test.shape)\n",
    "print(y_train.shape, y_test.shape)"
   ]
  },
  {
   "cell_type": "markdown",
   "metadata": {},
   "source": [
    "Bước tiếp theo là tạo model, cấu trúc đề xuất:\n",
    "- 2 lớp Convolution 3x3 với 64 filter, sử dụng hàm relu làm hàm kích hoạt.\n",
    "- 1 lớp max pooling 2x2.\n",
    "- 1 lớp dropout để chống overfit, loại bỏ 50% nút.\n",
    "- Thêm 4 lớp tương tự trên nhưng thay kích thước kernel 2 lớp Convolution thành 5x5.\n",
    "- 1 lớp densely-connected 512 loại.\n",
    "- 1 lớp dropout 50%.\n",
    "- 1 lớp fully-connected để đưa ra kết quả cuối cùng.\n",
    "\n",
    "Hàm loss: `categorical_crossentropy`, bên trong sử dụng hàm softmax.  \n",
    "Optimizer: `adagrad`, sử dụng thuật tối ưu này không cần tune tốc độ học.\n",
    "\n",
    "Cài đặt:"
   ]
  },
  {
   "cell_type": "code",
   "execution_count": 4,
   "metadata": {
    "colab": {
     "autoexec": {
      "startup": false,
      "wait_interval": 0
     }
    },
    "colab_type": "code",
    "id": "ztzMjPnnEiEC"
   },
   "outputs": [],
   "source": [
    "model = Sequential()\n",
    "\n",
    "model.add(Conv2D(64, (3, 3), padding='same', activation='relu', input_shape=X_train.shape[1:]))\n",
    "model.add(Conv2D(64, (3, 3), padding='same', activation='relu'))\n",
    "model.add(MaxPooling2D(pool_size=(2, 2)))\n",
    "model.add(Dropout(0.5))\n",
    "\n",
    "model.add(Conv2D(64, (5, 5), padding='same', activation='relu'))\n",
    "model.add(Conv2D(64, (5, 5), padding='same', activation='relu'))\n",
    "model.add(MaxPooling2D(pool_size=(2, 2)))\n",
    "model.add(Dropout(0.5))\n",
    "\n",
    "model.add(Flatten())\n",
    "model.add(Dense(512, activation='relu'))\n",
    "model.add(Dropout(0.5))\n",
    "\n",
    "model.add(Dense(10, activation='softmax'))\n",
    "\n",
    "model.compile(loss='categorical_crossentropy', optimizer='adagrad', metrics=['accuracy'])"
   ]
  },
  {
   "cell_type": "code",
   "execution_count": 5,
   "metadata": {
    "colab": {
     "autoexec": {
      "startup": false,
      "wait_interval": 0
     }
    },
    "colab_type": "code",
    "id": "bo2DnMCVjvA8"
   },
   "outputs": [],
   "source": [
    "if MODEL is None:\n",
    "    model.fit(\n",
    "      X_train, y_train,\n",
    "      batch_size=100,\n",
    "      epochs=75,\n",
    "      validation_data=(X_test, y_test),\n",
    "      shuffle=True,\n",
    "    )\n",
    "else:\n",
    "    model.load_weights(PROJ_PATH + '/' + MODEL)"
   ]
  },
  {
   "cell_type": "code",
   "execution_count": 7,
   "metadata": {
    "colab": {
     "autoexec": {
      "startup": false,
      "wait_interval": 0
     },
     "base_uri": "https://localhost:8080/",
     "height": 54
    },
    "colab_type": "code",
    "executionInfo": {
     "elapsed": 3044,
     "status": "ok",
     "timestamp": 1525796816608,
     "user": {
      "displayName": "Duc Hoang Nguyen",
      "photoUrl": "//lh3.googleusercontent.com/-jTUcmzwBhV4/AAAAAAAAAAI/AAAAAAAADzE/ZbhDHtVo9XE/s50-c-k-no/photo.jpg",
      "userId": "107372712701943544462"
     },
     "user_tz": -420
    },
    "id": "gkSOKUeIJoYe",
    "outputId": "2d00034e-00f7-4886-8ae8-4321e571e453"
   },
   "outputs": [
    {
     "name": "stdout",
     "output_type": "stream",
     "text": [
      "10000/10000 [==============================] - 21s 2ms/step\n",
      "acc =  0.8307\n"
     ]
    }
   ],
   "source": [
    "print('acc = ', model.evaluate(X_test, y_test)[1])"
   ]
  },
  {
   "cell_type": "code",
   "execution_count": 8,
   "metadata": {
    "colab": {
     "autoexec": {
      "startup": false,
      "wait_interval": 0
     }
    },
    "colab_type": "code",
    "id": "NOG8ddcMUBEm"
   },
   "outputs": [],
   "source": [
    "if MODEL is None:\n",
    "    from time import time\n",
    "    model.save(PROJ_PATH + '/model_' + str(int(time())))"
   ]
  },
  {
   "cell_type": "code",
   "execution_count": 0,
   "metadata": {
    "colab": {
     "autoexec": {
      "startup": false,
      "wait_interval": 0
     }
    },
    "colab_type": "code",
    "id": "bMdOasyXgjpA"
   },
   "outputs": [],
   "source": []
  }
 ],
 "metadata": {
  "accelerator": "GPU",
  "colab": {
   "collapsed_sections": [],
   "default_view": {},
   "name": "cifar10.ipynb",
   "provenance": [],
   "version": "0.3.2",
   "views": {}
  },
  "kernelspec": {
   "display_name": "Python 3",
   "language": "python",
   "name": "python3"
  },
  "language_info": {
   "codemirror_mode": {
    "name": "ipython",
    "version": 3
   },
   "file_extension": ".py",
   "mimetype": "text/x-python",
   "name": "python",
   "nbconvert_exporter": "python",
   "pygments_lexer": "ipython3",
   "version": "3.6.5"
  }
 },
 "nbformat": 4,
 "nbformat_minor": 1
}
