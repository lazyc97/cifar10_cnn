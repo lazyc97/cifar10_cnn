{
 "cells": [
  {
   "cell_type": "code",
   "execution_count": 0,
   "metadata": {
    "colab": {
     "autoexec": {
      "startup": false,
      "wait_interval": 0
     },
     "base_uri": "https://localhost:8080/",
     "height": 36
    },
    "colab_type": "code",
    "executionInfo": {
     "elapsed": 5154,
     "status": "ok",
     "timestamp": 1525795662044,
     "user": {
      "displayName": "Duc Hoang Nguyen",
      "photoUrl": "//lh3.googleusercontent.com/-jTUcmzwBhV4/AAAAAAAAAAI/AAAAAAAADzE/ZbhDHtVo9XE/s50-c-k-no/photo.jpg",
      "userId": "107372712701943544462"
     },
     "user_tz": -420
    },
    "id": "AdDSzPJRDoDW",
    "outputId": "982988b7-6096-4115-bb0d-c25c3902170e"
   },
   "outputs": [
    {
     "name": "stdout",
     "output_type": "stream",
     "text": [
      "/bin/sh: 1: google-drive-ocamlfuse: not found\r\n"
     ]
    }
   ],
   "source": [
    "!pip install -q keras\n",
    "!mkdir -p drive\n",
    "!google-drive-ocamlfuse drive"
   ]
  },
  {
   "cell_type": "code",
   "execution_count": 0,
   "metadata": {
    "colab": {
     "autoexec": {
      "startup": false,
      "wait_interval": 0
     },
     "base_uri": "https://localhost:8080/",
     "height": 54
    },
    "colab_type": "code",
    "executionInfo": {
     "elapsed": 956,
     "status": "ok",
     "timestamp": 1525791288080,
     "user": {
      "displayName": "Duc Hoang Nguyen",
      "photoUrl": "//lh3.googleusercontent.com/-jTUcmzwBhV4/AAAAAAAAAAI/AAAAAAAADzE/ZbhDHtVo9XE/s50-c-k-no/photo.jpg",
      "userId": "107372712701943544462"
     },
     "user_tz": -420
    },
    "id": "LV4gDtG3ESP8",
    "outputId": "c90c2c96-e48a-404a-b70e-da5617457483"
   },
   "outputs": [
    {
     "name": "stdout",
     "output_type": "stream",
     "text": [
      "(50000, 32, 32, 3) (10000, 32, 32, 3)\n",
      "(50000, 10) (10000, 10)\n"
     ]
    }
   ],
   "source": [
    "from keras.callbacks import EarlyStopping\n",
    "from keras.datasets import cifar10\n",
    "from keras.layers import Dense, Flatten, Dropout, Conv2D, MaxPooling2D\n",
    "from keras.models import Sequential\n",
    "from keras.optimizers import Adagrad\n",
    "from keras.utils import to_categorical\n",
    "\n",
    "(X_train, y_train), (X_test, y_test) = cifar10.load_data()\n",
    "y_train, y_test = to_categorical(y_train, 10), to_categorical(y_test, 10)\n",
    "\n",
    "print(X_train.shape, X_test.shape)\n",
    "print(y_train.shape, y_test.shape)"
   ]
  },
  {
   "cell_type": "code",
   "execution_count": 0,
   "metadata": {
    "colab": {
     "autoexec": {
      "startup": false,
      "wait_interval": 0
     }
    },
    "colab_type": "code",
    "id": "dZntWE7bIEOo"
   },
   "outputs": [],
   "source": [
    "X_train = X_train.astype('float32') / 255\n",
    "X_test = X_test.astype('float32') / 255"
   ]
  },
  {
   "cell_type": "code",
   "execution_count": 0,
   "metadata": {
    "colab": {
     "autoexec": {
      "startup": false,
      "wait_interval": 0
     }
    },
    "colab_type": "code",
    "id": "ztzMjPnnEiEC"
   },
   "outputs": [],
   "source": [
    "model = Sequential()\n",
    "\n",
    "model.add(Conv2D(64, (3, 3), padding='same', activation='relu', input_shape=X_train.shape[1:]))\n",
    "model.add(Conv2D(64, (3, 3), padding='same', activation='relu'))\n",
    "model.add(MaxPooling2D(pool_size=(2, 2)))\n",
    "model.add(Dropout(0.5))\n",
    "\n",
    "model.add(Conv2D(64, (5, 5), padding='same', activation='relu'))\n",
    "model.add(Conv2D(64, (5, 5), padding='same', activation='relu'))\n",
    "model.add(MaxPooling2D(pool_size=(2, 2)))\n",
    "model.add(Dropout(0.5))\n",
    "\n",
    "model.add(Flatten())\n",
    "model.add(Dense(512, activation='relu'))\n",
    "model.add(Dropout(0.5))\n",
    "\n",
    "model.add(Dense(10, activation='softmax'))\n",
    "\n",
    "model.compile(loss='categorical_crossentropy', optimizer='adagrad', metrics=['accuracy'])"
   ]
  },
  {
   "cell_type": "code",
   "execution_count": 0,
   "metadata": {
    "colab": {
     "autoexec": {
      "startup": false,
      "wait_interval": 0
     },
     "base_uri": "https://localhost:8080/",
     "height": 2878
    },
    "colab_type": "code",
    "executionInfo": {
     "elapsed": 1981136,
     "status": "ok",
     "timestamp": 1525795645122,
     "user": {
      "displayName": "Duc Hoang Nguyen",
      "photoUrl": "//lh3.googleusercontent.com/-jTUcmzwBhV4/AAAAAAAAAAI/AAAAAAAADzE/ZbhDHtVo9XE/s50-c-k-no/photo.jpg",
      "userId": "107372712701943544462"
     },
     "user_tz": -420
    },
    "id": "aIArYpwTFla6",
    "outputId": "91cba3e5-d851-45bc-c818-f39dd864ef2d"
   },
   "outputs": [
    {
     "name": "stdout",
     "output_type": "stream",
     "text": [
      "Train on 50000 samples, validate on 10000 samples\n",
      "Epoch 1/75\n",
      "50000/50000 [==============================] - 27s 534us/step - loss: 1.9644 - acc: 0.2737 - val_loss: 1.4431 - val_acc: 0.4756\n",
      "Epoch 2/75\n",
      "26900/50000 [===============>..............] - ETA: 11s - loss: 1.4600 - acc: 0.4650000/50000 [==============================] - 26s 522us/step - loss: 1.3957 - acc: 0.4940 - val_loss: 1.1580 - val_acc: 0.5919\n",
      "Epoch 3/75\n",
      "50000/50000 [==============================] - 26s 522us/step - loss: 1.1793 - acc: 0.5799 - val_loss: 0.9930 - val_acc: 0.6485\n",
      "Epoch 4/75\n",
      " 5000/50000 [==>...........................] - ETA: 22s - loss: 1.0744 - acc: 0.621850000/50000 [==============================] - 26s 523us/step - loss: 1.0448 - acc: 0.6313 - val_loss: 0.9255 - val_acc: 0.6704\n",
      "Epoch 5/75\n",
      "49400/50000 [============================>.] - ETA: 0s - loss: 0.9591 - acc: 0.662450000/50000 [==============================] - 26s 524us/step - loss: 0.9590 - acc: 0.6623 - val_loss: 0.8301 - val_acc: 0.7092\n",
      "Epoch 6/75\n",
      "50000/50000 [==============================] - 26s 521us/step - loss: 0.8954 - acc: 0.6832 - val_loss: 0.7997 - val_acc: 0.7193\n",
      "Epoch 7/75\n",
      " 9500/50000 [====>.........................] - ETA: 20s - loss: 0.8629 - acc: 0.696350000/50000 [==============================] - 26s 525us/step - loss: 0.8436 - acc: 0.7041 - val_loss: 0.7762 - val_acc: 0.7283\n",
      "Epoch 8/75\n",
      "48800/50000 [============================>.] - ETA: 0s - loss: 0.8052 - acc: 0.718350000/50000 [==============================] - 26s 524us/step - loss: 0.8044 - acc: 0.7184 - val_loss: 0.7263 - val_acc: 0.7444\n",
      "Epoch 9/75\n",
      "50000/50000 [==============================] - 26s 524us/step - loss: 0.7696 - acc: 0.7282 - val_loss: 0.7233 - val_acc: 0.7454\n",
      "Epoch 10/75\n",
      " 8900/50000 [====>.........................] - ETA: 20s - loss: 0.7363 - acc: 0.740350000/50000 [==============================] - 26s 526us/step - loss: 0.7433 - acc: 0.7379 - val_loss: 0.6908 - val_acc: 0.7546\n",
      "Epoch 11/75\n",
      "48400/50000 [============================>.] - ETA: 0s - loss: 0.7152 - acc: 0.747450000/50000 [==============================] - 26s 525us/step - loss: 0.7136 - acc: 0.7478 - val_loss: 0.6853 - val_acc: 0.7596\n",
      "Epoch 12/75\n",
      "50000/50000 [==============================] - 26s 523us/step - loss: 0.6961 - acc: 0.7556 - val_loss: 0.6638 - val_acc: 0.7678\n",
      "Epoch 13/75\n",
      " 7400/50000 [===>..........................] - ETA: 21s - loss: 0.6707 - acc: 0.766950000/50000 [==============================] - 26s 525us/step - loss: 0.6747 - acc: 0.7630 - val_loss: 0.6390 - val_acc: 0.7776\n",
      "Epoch 14/75\n",
      "45500/50000 [==========================>...] - ETA: 2s - loss: 0.6578 - acc: 0.769750000/50000 [==============================] - 26s 526us/step - loss: 0.6569 - acc: 0.7699 - val_loss: 0.6467 - val_acc: 0.7768\n",
      "Epoch 15/75\n",
      "50000/50000 [==============================] - 26s 529us/step - loss: 0.6429 - acc: 0.7740 - val_loss: 0.6310 - val_acc: 0.7814\n",
      "Epoch 16/75\n",
      " 4600/50000 [=>............................] - ETA: 22s - loss: 0.6047 - acc: 0.790950000/50000 [==============================] - 26s 527us/step - loss: 0.6269 - acc: 0.7799 - val_loss: 0.6203 - val_acc: 0.7844\n",
      "Epoch 17/75\n",
      "43500/50000 [=========================>....] - ETA: 3s - loss: 0.6097 - acc: 0.788750000/50000 [==============================] - 26s 527us/step - loss: 0.6112 - acc: 0.7873 - val_loss: 0.6097 - val_acc: 0.7891\n",
      "Epoch 18/75\n",
      "50000/50000 [==============================] - 26s 528us/step - loss: 0.5984 - acc: 0.7894 - val_loss: 0.6379 - val_acc: 0.7836\n",
      "Epoch 19/75\n",
      " 5500/50000 [==>...........................] - ETA: 21s - loss: 0.5893 - acc: 0.789850000/50000 [==============================] - 26s 524us/step - loss: 0.5831 - acc: 0.7963 - val_loss: 0.6132 - val_acc: 0.7901\n",
      "Epoch 20/75\n",
      "47900/50000 [===========================>..] - ETA: 1s - loss: 0.5677 - acc: 0.801350000/50000 [==============================] - 26s 523us/step - loss: 0.5683 - acc: 0.8012 - val_loss: 0.5912 - val_acc: 0.7981\n",
      "Epoch 21/75\n",
      "50000/50000 [==============================] - 26s 525us/step - loss: 0.5618 - acc: 0.8041 - val_loss: 0.5812 - val_acc: 0.7971\n",
      "Epoch 22/75\n",
      " 7100/50000 [===>..........................] - ETA: 21s - loss: 0.5294 - acc: 0.814250000/50000 [==============================] - 26s 527us/step - loss: 0.5495 - acc: 0.8075 - val_loss: 0.5840 - val_acc: 0.7988\n",
      "Epoch 23/75\n",
      "45200/50000 [==========================>...] - ETA: 2s - loss: 0.5408 - acc: 0.810150000/50000 [==============================] - 26s 524us/step - loss: 0.5431 - acc: 0.8090 - val_loss: 0.5776 - val_acc: 0.8005\n",
      "Epoch 24/75\n",
      "50000/50000 [==============================] - 26s 528us/step - loss: 0.5369 - acc: 0.8087 - val_loss: 0.5688 - val_acc: 0.8029\n",
      "Epoch 25/75\n",
      "50000/50000 [==============================] - 26s 527us/step - loss: 0.5236 - acc: 0.8169 - val_loss: 0.5790 - val_acc: 0.7987\n",
      "Epoch 26/75\n",
      "48000/50000 [===========================>..] - ETA: 0s - loss: 0.5168 - acc: 0.819150000/50000 [==============================] - 26s 523us/step - loss: 0.5162 - acc: 0.8192 - val_loss: 0.5700 - val_acc: 0.8049\n",
      "Epoch 27/75\n",
      "50000/50000 [==============================] - 26s 528us/step - loss: 0.5059 - acc: 0.8211 - val_loss: 0.5581 - val_acc: 0.8089\n",
      "Epoch 28/75\n",
      " 4900/50000 [=>............................] - ETA: 22s - loss: 0.4957 - acc: 0.827150000/50000 [==============================] - 26s 526us/step - loss: 0.5012 - acc: 0.8239 - val_loss: 0.5675 - val_acc: 0.8068\n",
      "Epoch 29/75\n",
      "45300/50000 [==========================>...] - ETA: 2s - loss: 0.4918 - acc: 0.827050000/50000 [==============================] - 26s 525us/step - loss: 0.4939 - acc: 0.8262 - val_loss: 0.5495 - val_acc: 0.8102\n",
      "Epoch 30/75\n",
      "50000/50000 [==============================] - 27s 534us/step - loss: 0.4880 - acc: 0.8269 - val_loss: 0.5640 - val_acc: 0.8057\n",
      "Epoch 31/75\n",
      " 3400/50000 [=>............................] - ETA: 23s - loss: 0.4738 - acc: 0.830650000/50000 [==============================] - 26s 526us/step - loss: 0.4778 - acc: 0.8306 - val_loss: 0.5590 - val_acc: 0.8148\n",
      "Epoch 32/75\n",
      "43000/50000 [========================>.....] - ETA: 3s - loss: 0.4712 - acc: 0.834050000/50000 [==============================] - 26s 529us/step - loss: 0.4720 - acc: 0.8339 - val_loss: 0.5501 - val_acc: 0.8102\n",
      "Epoch 33/75\n",
      "50000/50000 [==============================] - 26s 527us/step - loss: 0.4701 - acc: 0.8340 - val_loss: 0.5497 - val_acc: 0.8116\n",
      "Epoch 34/75\n",
      " 4900/50000 [=>............................] - ETA: 22s - loss: 0.4784 - acc: 0.833750000/50000 [==============================] - 26s 525us/step - loss: 0.4623 - acc: 0.8377 - val_loss: 0.5489 - val_acc: 0.8144\n",
      "Epoch 35/75\n",
      "46500/50000 [==========================>...] - ETA: 1s - loss: 0.4541 - acc: 0.838650000/50000 [==============================] - 26s 524us/step - loss: 0.4553 - acc: 0.8382 - val_loss: 0.5481 - val_acc: 0.8140\n",
      "Epoch 36/75\n",
      "50000/50000 [==============================] - 26s 525us/step - loss: 0.4507 - acc: 0.8398 - val_loss: 0.5548 - val_acc: 0.8143\n",
      "Epoch 37/75\n",
      " 8000/50000 [===>..........................] - ETA: 20s - loss: 0.4436 - acc: 0.847150000/50000 [==============================] - 26s 525us/step - loss: 0.4474 - acc: 0.8425 - val_loss: 0.5387 - val_acc: 0.8150\n",
      "Epoch 38/75\n",
      "47400/50000 [===========================>..] - ETA: 1s - loss: 0.4328 - acc: 0.846350000/50000 [==============================] - 26s 524us/step - loss: 0.4338 - acc: 0.8460 - val_loss: 0.5419 - val_acc: 0.8174\n",
      "Epoch 39/75\n",
      "50000/50000 [==============================] - 26s 524us/step - loss: 0.4339 - acc: 0.8464 - val_loss: 0.5394 - val_acc: 0.8192\n",
      "Epoch 40/75\n",
      " 7000/50000 [===>..........................] - ETA: 21s - loss: 0.4234 - acc: 0.851950000/50000 [==============================] - 26s 526us/step - loss: 0.4247 - acc: 0.8503 - val_loss: 0.5325 - val_acc: 0.8182\n",
      "Epoch 41/75\n",
      "42300/50000 [========================>.....] - ETA: 3s - loss: 0.4238 - acc: 0.849650000/50000 [==============================] - 27s 531us/step - loss: 0.4239 - acc: 0.8501 - val_loss: 0.5340 - val_acc: 0.8187\n",
      "Epoch 42/75\n",
      "50000/50000 [==============================] - 26s 526us/step - loss: 0.4178 - acc: 0.8510 - val_loss: 0.5458 - val_acc: 0.8142\n",
      "Epoch 43/75\n",
      " 5200/50000 [==>...........................] - ETA: 22s - loss: 0.4100 - acc: 0.851350000/50000 [==============================] - 27s 539us/step - loss: 0.4099 - acc: 0.8560 - val_loss: 0.5400 - val_acc: 0.8191\n",
      "Epoch 44/75\n"
     ]
    },
    {
     "name": "stdout",
     "output_type": "stream",
     "text": [
      "37000/50000 [=====================>........] - ETA: 6s - loss: 0.4003 - acc: 0.860550000/50000 [==============================] - 27s 538us/step - loss: 0.4046 - acc: 0.8585 - val_loss: 0.5251 - val_acc: 0.8193\n",
      "Epoch 45/75\n",
      "50000/50000 [==============================] - 27s 531us/step - loss: 0.4011 - acc: 0.8580 - val_loss: 0.5262 - val_acc: 0.8218\n",
      "Epoch 46/75\n",
      "  400/50000 [..............................] - ETA: 25s - loss: 0.3923 - acc: 0.882550000/50000 [==============================] - 26s 528us/step - loss: 0.3920 - acc: 0.8619 - val_loss: 0.5369 - val_acc: 0.8190\n",
      "Epoch 47/75\n",
      "35600/50000 [====================>.........] - ETA: 7s - loss: 0.4002 - acc: 0.857150000/50000 [==============================] - 27s 536us/step - loss: 0.3972 - acc: 0.8584 - val_loss: 0.5396 - val_acc: 0.8182\n",
      "Epoch 48/75\n",
      "47800/50000 [===========================>..] - ETA: 1s - loss: 0.3863 - acc: 0.863750000/50000 [==============================] - 27s 536us/step - loss: 0.3874 - acc: 0.8629 - val_loss: 0.5260 - val_acc: 0.8192\n",
      "Epoch 49/75\n",
      "50000/50000 [==============================] - 27s 535us/step - loss: 0.3865 - acc: 0.8611 - val_loss: 0.5285 - val_acc: 0.8221\n",
      "Epoch 50/75\n",
      " 2300/50000 [>.............................] - ETA: 24s - loss: 0.3803 - acc: 0.867050000/50000 [==============================] - 27s 536us/step - loss: 0.3807 - acc: 0.8647 - val_loss: 0.5301 - val_acc: 0.8245\n",
      "Epoch 51/75\n",
      "34100/50000 [===================>..........] - ETA: 8s - loss: 0.3739 - acc: 0.867450000/50000 [==============================] - 27s 538us/step - loss: 0.3767 - acc: 0.8660 - val_loss: 0.5342 - val_acc: 0.8228\n",
      "Epoch 52/75\n",
      "50000/50000 [==============================] - 26s 527us/step - loss: 0.3728 - acc: 0.8678 - val_loss: 0.5259 - val_acc: 0.8243\n",
      "Epoch 53/75\n",
      " 2400/50000 [>.............................] - ETA: 23s - loss: 0.3637 - acc: 0.873350000/50000 [==============================] - 26s 523us/step - loss: 0.3691 - acc: 0.8687 - val_loss: 0.5218 - val_acc: 0.8244\n",
      "Epoch 54/75\n",
      "45200/50000 [==========================>...] - ETA: 2s - loss: 0.3626 - acc: 0.869750000/50000 [==============================] - 26s 525us/step - loss: 0.3640 - acc: 0.8694 - val_loss: 0.5291 - val_acc: 0.8233\n",
      "Epoch 55/75\n",
      "50000/50000 [==============================] - 26s 527us/step - loss: 0.3627 - acc: 0.8718 - val_loss: 0.5227 - val_acc: 0.8257\n",
      "Epoch 56/75\n",
      " 5100/50000 [==>...........................] - ETA: 22s - loss: 0.3568 - acc: 0.876550000/50000 [==============================] - 26s 527us/step - loss: 0.3595 - acc: 0.8738 - val_loss: 0.5286 - val_acc: 0.8241\n",
      "Epoch 57/75\n",
      "43000/50000 [========================>.....] - ETA: 3s - loss: 0.3573 - acc: 0.875050000/50000 [==============================] - 26s 528us/step - loss: 0.3557 - acc: 0.8753 - val_loss: 0.5423 - val_acc: 0.8256\n",
      "Epoch 58/75\n",
      "50000/50000 [==============================] - 26s 529us/step - loss: 0.3550 - acc: 0.8741 - val_loss: 0.5249 - val_acc: 0.8278\n",
      "Epoch 59/75\n",
      " 3300/50000 [>.............................] - ETA: 23s - loss: 0.3442 - acc: 0.872450000/50000 [==============================] - 26s 530us/step - loss: 0.3467 - acc: 0.8772 - val_loss: 0.5227 - val_acc: 0.8264\n",
      "Epoch 60/75\n",
      "42100/50000 [========================>.....] - ETA: 3s - loss: 0.3453 - acc: 0.876950000/50000 [==============================] - 26s 528us/step - loss: 0.3454 - acc: 0.8770 - val_loss: 0.5258 - val_acc: 0.8249\n",
      "Epoch 61/75\n",
      "50000/50000 [==============================] - 27s 530us/step - loss: 0.3418 - acc: 0.8786 - val_loss: 0.5279 - val_acc: 0.8271\n",
      "Epoch 62/75\n",
      " 5300/50000 [==>...........................] - ETA: 22s - loss: 0.3251 - acc: 0.884950000/50000 [==============================] - 27s 531us/step - loss: 0.3416 - acc: 0.8782 - val_loss: 0.5224 - val_acc: 0.8283\n",
      "Epoch 63/75\n",
      "39300/50000 [======================>.......] - ETA: 5s - loss: 0.3391 - acc: 0.881250000/50000 [==============================] - 27s 532us/step - loss: 0.3368 - acc: 0.8817 - val_loss: 0.5281 - val_acc: 0.8271\n",
      "Epoch 64/75\n",
      "50000/50000 [==============================] - 27s 531us/step - loss: 0.3368 - acc: 0.8798 - val_loss: 0.5231 - val_acc: 0.8284\n",
      "Epoch 65/75\n",
      " 1500/50000 [..............................] - ETA: 24s - loss: 0.3091 - acc: 0.888750000/50000 [==============================] - 26s 528us/step - loss: 0.3293 - acc: 0.8838 - val_loss: 0.5325 - val_acc: 0.8276\n",
      "Epoch 66/75\n",
      "42900/50000 [========================>.....] - ETA: 3s - loss: 0.3287 - acc: 0.884150000/50000 [==============================] - 26s 529us/step - loss: 0.3302 - acc: 0.8834 - val_loss: 0.5242 - val_acc: 0.8284\n",
      "Epoch 67/75\n",
      "50000/50000 [==============================] - 27s 530us/step - loss: 0.3285 - acc: 0.8845 - val_loss: 0.5270 - val_acc: 0.8263\n",
      "Epoch 68/75\n",
      " 3500/50000 [=>............................] - ETA: 23s - loss: 0.3195 - acc: 0.888350000/50000 [==============================] - 26s 528us/step - loss: 0.3254 - acc: 0.8832 - val_loss: 0.5214 - val_acc: 0.8296\n",
      "Epoch 69/75\n",
      "41200/50000 [=======================>......] - ETA: 4s - loss: 0.3234 - acc: 0.885850000/50000 [==============================] - 27s 531us/step - loss: 0.3214 - acc: 0.8861 - val_loss: 0.5269 - val_acc: 0.8288\n",
      "Epoch 70/75\n",
      "50000/50000 [==============================] - 27s 531us/step - loss: 0.3180 - acc: 0.8871 - val_loss: 0.5265 - val_acc: 0.8303\n",
      "Epoch 71/75\n",
      " 4300/50000 [=>............................] - ETA: 22s - loss: 0.3049 - acc: 0.893050000/50000 [==============================] - 27s 531us/step - loss: 0.3164 - acc: 0.8883 - val_loss: 0.5238 - val_acc: 0.8303\n",
      "Epoch 72/75\n",
      "42600/50000 [========================>.....] - ETA: 3s - loss: 0.3068 - acc: 0.892150000/50000 [==============================] - 27s 531us/step - loss: 0.3080 - acc: 0.8921 - val_loss: 0.5371 - val_acc: 0.8253\n",
      "Epoch 73/75\n",
      "50000/50000 [==============================] - 26s 527us/step - loss: 0.3079 - acc: 0.8909 - val_loss: 0.5323 - val_acc: 0.8276\n",
      "Epoch 74/75\n",
      " 4800/50000 [=>............................] - ETA: 22s - loss: 0.3054 - acc: 0.894250000/50000 [==============================] - 26s 528us/step - loss: 0.3090 - acc: 0.8902 - val_loss: 0.5223 - val_acc: 0.8300\n",
      "Epoch 75/75\n",
      "41100/50000 [=======================>......] - ETA: 4s - loss: 0.3048 - acc: 0.892350000/50000 [==============================] - 27s 531us/step - loss: 0.3043 - acc: 0.8927 - val_loss: 0.5227 - val_acc: 0.8307\n"
     ]
    },
    {
     "data": {
      "text/plain": [
       "<keras.callbacks.History at 0x7f7530034cf8>"
      ]
     },
     "execution_count": 17,
     "metadata": {
      "tags": []
     },
     "output_type": "execute_result"
    }
   ],
   "source": [
    "model.fit(\n",
    "    X_train, y_train,\n",
    "    batch_size=100,\n",
    "    epochs=75,\n",
    "    validation_data=(X_test, y_test),\n",
    "    shuffle=True,\n",
    ")"
   ]
  },
  {
   "cell_type": "code",
   "execution_count": 0,
   "metadata": {
    "colab": {
     "autoexec": {
      "startup": false,
      "wait_interval": 0
     },
     "base_uri": "https://localhost:8080/",
     "height": 54
    },
    "colab_type": "code",
    "executionInfo": {
     "elapsed": 3344,
     "status": "ok",
     "timestamp": 1525795653216,
     "user": {
      "displayName": "Duc Hoang Nguyen",
      "photoUrl": "//lh3.googleusercontent.com/-jTUcmzwBhV4/AAAAAAAAAAI/AAAAAAAADzE/ZbhDHtVo9XE/s50-c-k-no/photo.jpg",
      "userId": "107372712701943544462"
     },
     "user_tz": -420
    },
    "id": "gkSOKUeIJoYe",
    "outputId": "09b7fcb2-6593-468f-8d49-c5db9e1f1540"
   },
   "outputs": [
    {
     "name": "stdout",
     "output_type": "stream",
     "text": [
      "10000/10000 [==============================] - 3s 270us/step\n",
      "acc =  0.8307\n"
     ]
    }
   ],
   "source": [
    "print('acc = ', model.evaluate(X_test, y_test)[1])"
   ]
  },
  {
   "cell_type": "code",
   "execution_count": 0,
   "metadata": {
    "colab": {
     "autoexec": {
      "startup": false,
      "wait_interval": 0
     },
     "base_uri": "https://localhost:8080/",
     "height": 862
    },
    "colab_type": "code",
    "executionInfo": {
     "elapsed": 652,
     "status": "error",
     "timestamp": 1525795713676,
     "user": {
      "displayName": "Duc Hoang Nguyen",
      "photoUrl": "//lh3.googleusercontent.com/-jTUcmzwBhV4/AAAAAAAAAAI/AAAAAAAADzE/ZbhDHtVo9XE/s50-c-k-no/photo.jpg",
      "userId": "107372712701943544462"
     },
     "user_tz": -420
    },
    "id": "NOG8ddcMUBEm",
    "outputId": "f520f0ff-b302-4cf1-a917-57a7ea3a32b8"
   },
   "outputs": [
    {
     "ename": "OSError",
     "evalue": "ignored",
     "output_type": "error",
     "traceback": [
      "\u001b[0;31m---------------------------------------------------------------------------\u001b[0m",
      "\u001b[0;31mOSError\u001b[0m                                   Traceback (most recent call last)",
      "\u001b[0;32m<ipython-input-22-aff71bcd91ff>\u001b[0m in \u001b[0;36m<module>\u001b[0;34m()\u001b[0m\n\u001b[1;32m      2\u001b[0m \u001b[0;32mimport\u001b[0m \u001b[0msys\u001b[0m\u001b[0;34m\u001b[0m\u001b[0m\n\u001b[1;32m      3\u001b[0m \u001b[0msys\u001b[0m\u001b[0;34m.\u001b[0m\u001b[0mpath\u001b[0m\u001b[0;34m.\u001b[0m\u001b[0mappend\u001b[0m\u001b[0;34m(\u001b[0m\u001b[0;34m'drive/cifar10_cnn'\u001b[0m\u001b[0;34m)\u001b[0m\u001b[0;34m\u001b[0m\u001b[0m\n\u001b[0;32m----> 4\u001b[0;31m \u001b[0mmodel\u001b[0m\u001b[0;34m.\u001b[0m\u001b[0msave\u001b[0m\u001b[0;34m(\u001b[0m\u001b[0;34m'drive/cifar10_cnn/model_'\u001b[0m \u001b[0;34m+\u001b[0m \u001b[0mstr\u001b[0m\u001b[0;34m(\u001b[0m\u001b[0mint\u001b[0m\u001b[0;34m(\u001b[0m\u001b[0mtime\u001b[0m\u001b[0;34m(\u001b[0m\u001b[0;34m)\u001b[0m\u001b[0;34m)\u001b[0m\u001b[0;34m)\u001b[0m\u001b[0;34m)\u001b[0m\u001b[0;34m\u001b[0m\u001b[0m\n\u001b[0m",
      "\u001b[0;32m/usr/local/lib/python3.6/dist-packages/keras/engine/topology.py\u001b[0m in \u001b[0;36msave\u001b[0;34m(self, filepath, overwrite, include_optimizer)\u001b[0m\n\u001b[1;32m   2589\u001b[0m         \"\"\"\n\u001b[1;32m   2590\u001b[0m         \u001b[0;32mfrom\u001b[0m \u001b[0;34m.\u001b[0m\u001b[0;34m.\u001b[0m\u001b[0mmodels\u001b[0m \u001b[0;32mimport\u001b[0m \u001b[0msave_model\u001b[0m\u001b[0;34m\u001b[0m\u001b[0m\n\u001b[0;32m-> 2591\u001b[0;31m         \u001b[0msave_model\u001b[0m\u001b[0;34m(\u001b[0m\u001b[0mself\u001b[0m\u001b[0;34m,\u001b[0m \u001b[0mfilepath\u001b[0m\u001b[0;34m,\u001b[0m \u001b[0moverwrite\u001b[0m\u001b[0;34m,\u001b[0m \u001b[0minclude_optimizer\u001b[0m\u001b[0;34m)\u001b[0m\u001b[0;34m\u001b[0m\u001b[0m\n\u001b[0m\u001b[1;32m   2592\u001b[0m \u001b[0;34m\u001b[0m\u001b[0m\n\u001b[1;32m   2593\u001b[0m     \u001b[0;32mdef\u001b[0m \u001b[0msave_weights\u001b[0m\u001b[0;34m(\u001b[0m\u001b[0mself\u001b[0m\u001b[0;34m,\u001b[0m \u001b[0mfilepath\u001b[0m\u001b[0;34m,\u001b[0m \u001b[0moverwrite\u001b[0m\u001b[0;34m=\u001b[0m\u001b[0;32mTrue\u001b[0m\u001b[0;34m)\u001b[0m\u001b[0;34m:\u001b[0m\u001b[0;34m\u001b[0m\u001b[0m\n",
      "\u001b[0;32m/usr/local/lib/python3.6/dist-packages/keras/models.py\u001b[0m in \u001b[0;36msave_model\u001b[0;34m(model, filepath, overwrite, include_optimizer)\u001b[0m\n\u001b[1;32m    113\u001b[0m                 \u001b[0;32mreturn\u001b[0m\u001b[0;34m\u001b[0m\u001b[0m\n\u001b[1;32m    114\u001b[0m \u001b[0;34m\u001b[0m\u001b[0m\n\u001b[0;32m--> 115\u001b[0;31m         \u001b[0mf\u001b[0m \u001b[0;34m=\u001b[0m \u001b[0mh5py\u001b[0m\u001b[0;34m.\u001b[0m\u001b[0mFile\u001b[0m\u001b[0;34m(\u001b[0m\u001b[0mfilepath\u001b[0m\u001b[0;34m,\u001b[0m \u001b[0mmode\u001b[0m\u001b[0;34m=\u001b[0m\u001b[0;34m'w'\u001b[0m\u001b[0;34m)\u001b[0m\u001b[0;34m\u001b[0m\u001b[0m\n\u001b[0m\u001b[1;32m    116\u001b[0m         \u001b[0mopened_new_file\u001b[0m \u001b[0;34m=\u001b[0m \u001b[0;32mTrue\u001b[0m\u001b[0;34m\u001b[0m\u001b[0m\n\u001b[1;32m    117\u001b[0m     \u001b[0;32melse\u001b[0m\u001b[0;34m:\u001b[0m\u001b[0;34m\u001b[0m\u001b[0m\n",
      "\u001b[0;32m/usr/local/lib/python3.6/dist-packages/h5py/_hl/files.py\u001b[0m in \u001b[0;36m__init__\u001b[0;34m(self, name, mode, driver, libver, userblock_size, swmr, **kwds)\u001b[0m\n\u001b[1;32m    267\u001b[0m             \u001b[0;32mwith\u001b[0m \u001b[0mphil\u001b[0m\u001b[0;34m:\u001b[0m\u001b[0;34m\u001b[0m\u001b[0m\n\u001b[1;32m    268\u001b[0m                 \u001b[0mfapl\u001b[0m \u001b[0;34m=\u001b[0m \u001b[0mmake_fapl\u001b[0m\u001b[0;34m(\u001b[0m\u001b[0mdriver\u001b[0m\u001b[0;34m,\u001b[0m \u001b[0mlibver\u001b[0m\u001b[0;34m,\u001b[0m \u001b[0;34m**\u001b[0m\u001b[0mkwds\u001b[0m\u001b[0;34m)\u001b[0m\u001b[0;34m\u001b[0m\u001b[0m\n\u001b[0;32m--> 269\u001b[0;31m                 \u001b[0mfid\u001b[0m \u001b[0;34m=\u001b[0m \u001b[0mmake_fid\u001b[0m\u001b[0;34m(\u001b[0m\u001b[0mname\u001b[0m\u001b[0;34m,\u001b[0m \u001b[0mmode\u001b[0m\u001b[0;34m,\u001b[0m \u001b[0muserblock_size\u001b[0m\u001b[0;34m,\u001b[0m \u001b[0mfapl\u001b[0m\u001b[0;34m,\u001b[0m \u001b[0mswmr\u001b[0m\u001b[0;34m=\u001b[0m\u001b[0mswmr\u001b[0m\u001b[0;34m)\u001b[0m\u001b[0;34m\u001b[0m\u001b[0m\n\u001b[0m\u001b[1;32m    270\u001b[0m \u001b[0;34m\u001b[0m\u001b[0m\n\u001b[1;32m    271\u001b[0m                 \u001b[0;32mif\u001b[0m \u001b[0mswmr_support\u001b[0m\u001b[0;34m:\u001b[0m\u001b[0;34m\u001b[0m\u001b[0m\n",
      "\u001b[0;32m/usr/local/lib/python3.6/dist-packages/h5py/_hl/files.py\u001b[0m in \u001b[0;36mmake_fid\u001b[0;34m(name, mode, userblock_size, fapl, fcpl, swmr)\u001b[0m\n\u001b[1;32m    103\u001b[0m         \u001b[0mfid\u001b[0m \u001b[0;34m=\u001b[0m \u001b[0mh5f\u001b[0m\u001b[0;34m.\u001b[0m\u001b[0mcreate\u001b[0m\u001b[0;34m(\u001b[0m\u001b[0mname\u001b[0m\u001b[0;34m,\u001b[0m \u001b[0mh5f\u001b[0m\u001b[0;34m.\u001b[0m\u001b[0mACC_EXCL\u001b[0m\u001b[0;34m,\u001b[0m \u001b[0mfapl\u001b[0m\u001b[0;34m=\u001b[0m\u001b[0mfapl\u001b[0m\u001b[0;34m,\u001b[0m \u001b[0mfcpl\u001b[0m\u001b[0;34m=\u001b[0m\u001b[0mfcpl\u001b[0m\u001b[0;34m)\u001b[0m\u001b[0;34m\u001b[0m\u001b[0m\n\u001b[1;32m    104\u001b[0m     \u001b[0;32melif\u001b[0m \u001b[0mmode\u001b[0m \u001b[0;34m==\u001b[0m \u001b[0;34m'w'\u001b[0m\u001b[0;34m:\u001b[0m\u001b[0;34m\u001b[0m\u001b[0m\n\u001b[0;32m--> 105\u001b[0;31m         \u001b[0mfid\u001b[0m \u001b[0;34m=\u001b[0m \u001b[0mh5f\u001b[0m\u001b[0;34m.\u001b[0m\u001b[0mcreate\u001b[0m\u001b[0;34m(\u001b[0m\u001b[0mname\u001b[0m\u001b[0;34m,\u001b[0m \u001b[0mh5f\u001b[0m\u001b[0;34m.\u001b[0m\u001b[0mACC_TRUNC\u001b[0m\u001b[0;34m,\u001b[0m \u001b[0mfapl\u001b[0m\u001b[0;34m=\u001b[0m\u001b[0mfapl\u001b[0m\u001b[0;34m,\u001b[0m \u001b[0mfcpl\u001b[0m\u001b[0;34m=\u001b[0m\u001b[0mfcpl\u001b[0m\u001b[0;34m)\u001b[0m\u001b[0;34m\u001b[0m\u001b[0m\n\u001b[0m\u001b[1;32m    106\u001b[0m     \u001b[0;32melif\u001b[0m \u001b[0mmode\u001b[0m \u001b[0;34m==\u001b[0m \u001b[0;34m'a'\u001b[0m\u001b[0;34m:\u001b[0m\u001b[0;34m\u001b[0m\u001b[0m\n\u001b[1;32m    107\u001b[0m         \u001b[0;31m# Open in append mode (read/write).\u001b[0m\u001b[0;34m\u001b[0m\u001b[0;34m\u001b[0m\u001b[0m\n",
      "\u001b[0;32mh5py/_objects.pyx\u001b[0m in \u001b[0;36mh5py._objects.with_phil.wrapper\u001b[0;34m()\u001b[0m\n",
      "\u001b[0;32mh5py/_objects.pyx\u001b[0m in \u001b[0;36mh5py._objects.with_phil.wrapper\u001b[0;34m()\u001b[0m\n",
      "\u001b[0;32mh5py/h5f.pyx\u001b[0m in \u001b[0;36mh5py.h5f.create\u001b[0;34m()\u001b[0m\n",
      "\u001b[0;31mOSError\u001b[0m: Unable to create file (unable to open file: name = 'drive/cifar10_cnn/model_1525795713', errno = 2, error message = 'No such file or directory', flags = 13, o_flags = 242)"
     ]
    }
   ],
   "source": [
    "from time import time\n",
    "model.save('drive/cifar10_cnn/model_' + str(int(time())))"
   ]
  },
  {
   "cell_type": "code",
   "execution_count": 0,
   "metadata": {
    "colab": {
     "autoexec": {
      "startup": false,
      "wait_interval": 0
     }
    },
    "colab_type": "code",
    "id": "bMdOasyXgjpA"
   },
   "outputs": [],
   "source": []
  }
 ],
 "metadata": {
  "accelerator": "GPU",
  "colab": {
   "collapsed_sections": [],
   "default_view": {},
   "name": "cifar10.ipynb",
   "provenance": [],
   "version": "0.3.2",
   "views": {}
  },
  "kernelspec": {
   "display_name": "Python 3",
   "language": "python",
   "name": "python3"
  },
  "language_info": {
   "codemirror_mode": {
    "name": "ipython",
    "version": 3
   },
   "file_extension": ".py",
   "mimetype": "text/x-python",
   "name": "python",
   "nbconvert_exporter": "python",
   "pygments_lexer": "ipython3",
   "version": "3.6.5"
  }
 },
 "nbformat": 4,
 "nbformat_minor": 1
}
